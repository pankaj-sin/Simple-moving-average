{
 "cells": [
  {
   "cell_type": "code",
   "execution_count": null,
   "id": "94a8c249",
   "metadata": {},
   "outputs": [],
   "source": [
    "# Import the required Module\n",
    "import tabula\n",
    "# Read a PDF File\n",
    "df = tabula.read_pdf(\"assignment .pdf\", pages='all')[0]\n",
    "# convert PDF into CSV\n",
    "tabula.convert_into(\"assignment .pdf\", \"assignment .csv\", output_format=\"csv\", pages='all')\n",
    "print(df)"
   ]
  },
  {
   "cell_type": "code",
   "execution_count": null,
   "id": "c0e94094",
   "metadata": {},
   "outputs": [],
   "source": []
  }
 ],
 "metadata": {
  "kernelspec": {
   "display_name": "Python 3 (ipykernel)",
   "language": "python",
   "name": "python3"
  },
  "language_info": {
   "codemirror_mode": {
    "name": "ipython",
    "version": 3
   },
   "file_extension": ".py",
   "mimetype": "text/x-python",
   "name": "python",
   "nbconvert_exporter": "python",
   "pygments_lexer": "ipython3",
   "version": "3.9.13"
  }
 },
 "nbformat": 4,
 "nbformat_minor": 5
}
